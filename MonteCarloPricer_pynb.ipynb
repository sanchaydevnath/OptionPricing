{
  "nbformat": 4,
  "nbformat_minor": 0,
  "metadata": {
    "colab": {
      "provenance": []
    },
    "kernelspec": {
      "name": "python3",
      "display_name": "Python 3"
    },
    "language_info": {
      "name": "python"
    }
  },
  "cells": [
    {
      "cell_type": "code",
      "execution_count": 1,
      "metadata": {
        "id": "y9HCG7tmFALx"
      },
      "outputs": [],
      "source": [
        "import numpy\n",
        "def montecarlopricer(S, K, T, r, volatility, n_sim=100000):\n",
        "  #S - initial price of stock\n",
        "  #K - strick price of stock (price on option)\n",
        "  #T - time interval for simulation past current time\n",
        "  #r - risk-free interest rate\n",
        "  #n_sim - 100000 simulations of future stock price outcomes\n",
        "  # Generate random standard normal draws\n",
        "  Z = numpy.random.normal(0, 1, n_sim)\n",
        "\n",
        "  # Ending stock price after T time under risk-neutral dynamics\n",
        "  ST = S * numpy.exp((r - 0.5 * volatility**2) * T + volatility * numpy.sqrt(T) * Z)\n",
        "\n",
        "  # Payoff for simulated call options\n",
        "  payoffs = numpy.maximum(ST - K, 0)\n",
        "\n",
        "  #Adjust to current currency value\n",
        "  price = numpy.exp(-r * T) * numpy.mean(payoffs) #estimated profit in todays money\n",
        "\n",
        "  return price"
      ]
    }
  ]
}